{
  "metadata": {
    "kernelspec": {
      "name": "python",
      "display_name": "Python (Pyodide)",
      "language": "python"
    },
    "language_info": {
      "codemirror_mode": {
        "name": "python",
        "version": 3
      },
      "file_extension": ".py",
      "mimetype": "text/x-python",
      "name": "python",
      "nbconvert_exporter": "python",
      "pygments_lexer": "ipython3",
      "version": "3.8"
    }
  },
  "nbformat_minor": 5,
  "nbformat": 4,
  "cells": [
    {
      "id": "39c115f1-4487-41f8-b269-119410522199",
      "cell_type": "code",
      "source": "1)While loop:",
      "metadata": {},
      "outputs": [],
      "execution_count": null
    },
    {
      "id": "b999fc4e-fc8c-484d-a508-60376a7b0fa8",
      "cell_type": "code",
      "source": "num=int(input(\"Enter a number:\"))\ni=1\nwhile i<=10:\n    print(f\"{num}*{i}={num*i}\")\n    i+=1",
      "metadata": {},
      "outputs": [
        {
          "name": "stdin",
          "output_type": "stream",
          "text": "Enter a number: 4\n"
        },
        {
          "name": "stdout",
          "output_type": "stream",
          "text": "4*1=4\n,4*2=8\n,4*3=12\n,4*4=16\n,4*5=20\n,4*6=24\n,4*7=28\n,4*8=32\n,4*9=36\n,4*10=40\n"
        }
      ],
      "execution_count": 4
    },
    {
      "id": "73d49baa-b734-4f13-aad8-83e1cc93c3ee",
      "cell_type": "code",
      "source": "while True:\n    letter=str(input(\"Enter a letter:\"))\n    if letter=='q':\n        print(\"Exited loop\")\n        break\n    else:\n        print(\"You typed:\",letter)",
      "metadata": {},
      "outputs": [
        {
          "name": "stdin",
          "output_type": "stream",
          "text": "Enter a letter: a\n"
        },
        {
          "name": "stdout",
          "output_type": "stream",
          "text": "You typed: a\n"
        },
        {
          "name": "stdin",
          "output_type": "stream",
          "text": "Enter a letter: q\n"
        },
        {
          "name": "stdout",
          "output_type": "stream",
          "text": "Exited loop\n"
        }
      ],
      "execution_count": 3
    },
    {
      "id": "bc004f88-6580-4959-88b0-8109c5831d67",
      "cell_type": "code",
      "source": "password=\"riya1234\"\nattempts=3\nwhile attempts>0:\n    user_input=input(\"Enter password:\")\n    if user_input==password:\n        print(\"Access granted\")\n        break\n    else:\n        attempts-=1\n        print(\"Wrong password!{attempts}attempts left.\")",
      "metadata": {
        "trusted": true
      },
      "outputs": [
        {
          "output_type": "stream",
          "name": "stdin",
          "text": "Enter password: riya1234\n"
        },
        {
          "name": "stdout",
          "output_type": "stream",
          "text": "Access granted\n"
        }
      ],
      "execution_count": 1
    },
    {
      "id": "68c18ad4-b6c5-4f9f-8dd4-ea67d63db86c",
      "cell_type": "code",
      "source": "number=int(input(\"enter number between 1-100\"))\nwhile number<=100 and number>=1:\n    if number%7==0:\n        print(\"Divisible by 7\")\n        break\n    else:\n        print(number,\"not divisible by 7\")\n        break",
      "metadata": {},
      "outputs": [
        {
          "name": "stdin",
          "output_type": "stream",
          "text": "enter number between 1-100 28\n"
        },
        {
          "name": "stdout",
          "output_type": "stream",
          "text": "Divisible by 7\n"
        }
      ],
      "execution_count": 9
    },
    {
      "id": "a3c4e427-6905-4e32-ac47-eb324c5bc69e",
      "cell_type": "code",
      "source": "2)For Loop",
      "metadata": {},
      "outputs": [],
      "execution_count": null
    },
    {
      "id": "74d7a86c-aec1-4134-9e7e-c94d791668e4",
      "cell_type": "code",
      "source": "num=int(input(\"Enter a number:\"))\nfor i in range(1,11):\n    print(f\"{num} * {i} = {num*i}\")",
      "metadata": {},
      "outputs": [
        {
          "name": "stdin",
          "output_type": "stream",
          "text": "Enter a number: 5\n"
        },
        {
          "name": "stdout",
          "output_type": "stream",
          "text": "5 * 1 = 5\n,5 * 2 = 10\n,5 * 3 = 15\n,5 * 4 = 20\n,5 * 5 = 25\n,5 * 6 = 30\n,5 * 7 = 35\n,5 * 8 = 40\n,5 * 9 = 45\n,5 * 10 = 50\n"
        }
      ],
      "execution_count": 10
    },
    {
      "id": "6f613314-0b69-4adc-8d7f-b93e709c5e9d",
      "cell_type": "code",
      "source": "password=\"riya1234\"\nattempts=3\nfor i in range(1,4):\n    user_input=input(\"Enter password:\")\n    if user_input==password:\n       print(\"Access granted\")\n       break\n    else:\n        print(\"wrong password!\")\n    ",
      "metadata": {
        "trusted": true
      },
      "outputs": [
        {
          "output_type": "stream",
          "name": "stdin",
          "text": "Enter password: riya1234\n"
        },
        {
          "name": "stdout",
          "output_type": "stream",
          "text": "Access granted\n"
        }
      ],
      "execution_count": 2
    },
    {
      "id": "dbf01972-d79f-4bf1-a095-ce9c5f7b85a5",
      "cell_type": "code",
      "source": "#continue\nfor i in range(1,6):\n    if i==3:\n        continue\n    print(i)",
      "metadata": {},
      "outputs": [
        {
          "name": "stdout",
          "output_type": "stream",
          "text": "1\n,2\n,4\n,5\n"
        }
      ],
      "execution_count": 13
    },
    {
      "id": "5b0870b3-77e9-4656-b268-856ba3c28e38",
      "cell_type": "code",
      "source": "for i in range(1,11):\n    if i==5:\n        continue\n    if i==8:\n        break\n    print(i)",
      "metadata": {},
      "outputs": [
        {
          "name": "stdout",
          "output_type": "stream",
          "text": "1\n,2\n,3\n,4\n,6\n,7\n"
        }
      ],
      "execution_count": 14
    },
    {
      "id": "edb9fced-0b8d-4cac-ba35-de12bbdc69e6",
      "cell_type": "code",
      "source": "password=\"riya1234\"\nattempts=5\nfor i in range(attempts):\n    num=input(\"Enter password:\")\n    if num==\"forget\":\n        attempts-=1\n        print(f\"{attempts} attempts left.\")\n        continue\n    if num==password:\n        print(\"Access granted\")\n        break\n    else:\n        attempts-=1\n        print(f\"wrong password {attempts} attempts left.\")",
      "metadata": {
        "trusted": true
      },
      "outputs": [
        {
          "output_type": "stream",
          "name": "stdin",
          "text": "Enter password: riya1234\n"
        },
        {
          "name": "stdout",
          "output_type": "stream",
          "text": "Access granted\n"
        }
      ],
      "execution_count": 3
    },
    {
      "id": "b544f228-b496-46b7-a9fb-08a6394055b8",
      "cell_type": "code",
      "source": "strg=\"Python\"\nfor i in range(len(strg)):\n  if strg[i]==\"o\":\n      continue\n  if strg[i]==\"n\":\n      break\n  print(strg[i])",
      "metadata": {},
      "outputs": [
        {
          "name": "stdout",
          "output_type": "stream",
          "text": "P\n,y\n,t\n,h\n"
        }
      ],
      "execution_count": 21
    },
    {
      "id": "4fdee512-2c7b-4bc6-bac0-e9b4dad12b3c",
      "cell_type": "code",
      "source": "",
      "metadata": {},
      "outputs": [],
      "execution_count": null
    }
  ]
}